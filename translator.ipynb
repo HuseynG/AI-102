{
 "cells": [
  {
   "cell_type": "code",
   "execution_count": 8,
   "id": "5035a39f",
   "metadata": {},
   "outputs": [
    {
     "data": {
      "text/plain": [
       "True"
      ]
     },
     "execution_count": 8,
     "metadata": {},
     "output_type": "execute_result"
    }
   ],
   "source": [
    "# %pip install python-dotenv\n",
    "import os\n",
    "from dotenv import load_dotenv\n",
    "from pathlib import Path\n",
    "\n",
    "env_path = Path(\"Users/jobassist_2024/AI-102\") / \".env\"\n",
    "load_dotenv(dotenv_path=env_path)\n"
   ]
  },
  {
   "cell_type": "code",
   "execution_count": 9,
   "id": "4c11cbdd-5c00-47c9-8598-971b6a006159",
   "metadata": {
    "tags": []
   },
   "outputs": [
    {
     "name": "stdout",
     "output_type": "stream",
     "text": [
      "[\n",
      "    {\n",
      "        \"translations\": [\n",
      "            {\n",
      "                \"text\": \"J’aimerais vraiment conduire votre voiture autour du pâté de maisons plusieurs fois !\",\n",
      "                \"to\": \"fr\"\n",
      "            },\n",
      "            {\n",
      "                \"text\": \"Ngingathanda ukushayela imoto yakho ezungeze ibhlokhi izikhathi ezimbalwa!\",\n",
      "                \"to\": \"zu\"\n",
      "            }\n",
      "        ]\n",
      "    }\n",
      "]\n"
     ]
    }
   ],
   "source": [
    "import requests, uuid, json\n",
    "\n",
    "endpoint = os.getenv(\"cognitive_service_api_endpoint\")\n",
    "key = os.getenv(\"translator_api_key\")\n",
    "location = os.getenv(\"location\")\n",
    "\n",
    "\n",
    "path = '/translate'\n",
    "constructed_url = endpoint + path\n",
    "\n",
    "params = {\n",
    "    'api-version': '3.0',\n",
    "    'from': 'en',\n",
    "    'to': ['fr', 'zu'],\n",
    "}\n",
    "\n",
    "headers = {\n",
    "    'Ocp-Apim-Subscription-Key': key,\n",
    "    # location required if you're using a multi-service or regional (not global) resource.\n",
    "    'Ocp-Apim-Subscription-Region': location,\n",
    "    'Content-type': 'application/json',\n",
    "    'X-ClientTraceId': str(uuid.uuid4())\n",
    "}\n",
    "\n",
    "# You can pass more than one object in body.\n",
    "body = [{\n",
    "    'text': 'I would really like to drive your car around the block a few times!'\n",
    "}]\n",
    "\n",
    "request = requests.post(constructed_url, params=params, headers=headers, json=body)\n",
    "response = request.json()\n",
    "\n",
    "print(json.dumps(response, sort_keys=True, ensure_ascii=False, indent=4, separators=(',', ': ')))"
   ]
  },
  {
   "cell_type": "code",
   "execution_count": null,
   "id": "5f9802ca",
   "metadata": {},
   "outputs": [],
   "source": []
  },
  {
   "cell_type": "code",
   "execution_count": null,
   "id": "1470cc39-0782-493a-9017-21a9a2cb5a5c",
   "metadata": {},
   "outputs": [],
   "source": []
  }
 ],
 "metadata": {
  "kernelspec": {
   "display_name": "Python 3.10 - SDK v2",
   "language": "python",
   "name": "python310-sdkv2"
  },
  "language_info": {
   "codemirror_mode": {
    "name": "ipython",
    "version": 3
   },
   "file_extension": ".py",
   "mimetype": "text/x-python",
   "name": "python",
   "nbconvert_exporter": "python",
   "pygments_lexer": "ipython3",
   "version": "3.10.16"
  }
 },
 "nbformat": 4,
 "nbformat_minor": 5
}
